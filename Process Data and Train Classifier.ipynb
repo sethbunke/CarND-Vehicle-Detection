{
 "cells": [
  {
   "cell_type": "code",
   "execution_count": 17,
   "metadata": {
    "collapsed": true
   },
   "outputs": [],
   "source": [
    "from lesson_functions import *\n",
    "import glob\n",
    "from os.path import join\n",
    "from sklearn.metrics import precision_score, classification_report, accuracy_score\n",
    "from sklearn.svm import LinearSVC, SVC, NuSVC\n",
    "from sklearn.preprocessing import StandardScaler\n",
    "import time\n",
    "import pickle"
   ]
  },
  {
   "cell_type": "code",
   "execution_count": 2,
   "metadata": {
    "collapsed": true
   },
   "outputs": [],
   "source": [
    "def train_test_split(X, y, test_size=0.2):\n",
    "    i = int((1 - test_size) * X.shape[0]) + 1\n",
    "    X_train, X_test = np.split(X, [i])\n",
    "    y_train, y_test = np.split(y, [i])\n",
    "    return X_train, X_test, y_train, y_test"
   ]
  },
  {
   "cell_type": "markdown",
   "metadata": {},
   "source": [
    "## Parameters"
   ]
  },
  {
   "cell_type": "markdown",
   "metadata": {},
   "source": [
    "While a lot of the parameters were taken from lessons in the class, others came from forum discussions, and others were purely from experimentation.  "
   ]
  },
  {
   "cell_type": "code",
   "execution_count": 3,
   "metadata": {
    "collapsed": true
   },
   "outputs": [],
   "source": [
    "color_space = 'HLS'  # Can be RGB, HSV, LUV, HLS, YUV, YCrCb\n",
    "orient = 9  # HOG orientations\n",
    "pix_per_cell = 16  # HOG pixels per cell\n",
    "cell_per_block = 2  # HOG cells per block\n",
    "hog_channel = \"ALL\"  # Can be 0, 1, 2, or \"ALL\"\n",
    "spatial_size = (16, 16)  # Spatial binning dimensions\n",
    "hist_bins = 16  # Number of histogram bins\n",
    "spatial_feat = True  # Spatial features on or off\n",
    "hist_feat = True  # Histogram features on or off\n",
    "hog_feat = True  # HOG features on or off"
   ]
  },
  {
   "cell_type": "markdown",
   "metadata": {},
   "source": [
    "## Data Source"
   ]
  },
  {
   "cell_type": "code",
   "execution_count": 4,
   "metadata": {
    "collapsed": true
   },
   "outputs": [],
   "source": [
    "data_dir = \"./images/\"\n",
    "cars = glob.glob(join(data_dir, \"vehicles/*/*.png\"))\n",
    "notcars = glob.glob(join(data_dir, \"non-vehicles/*/*.png\"))"
   ]
  },
  {
   "cell_type": "markdown",
   "metadata": {},
   "source": [
    "## Extract Features for Cars and Non-Cars Using Class-Provided Methods and Passing in Appropriate Parameters"
   ]
  },
  {
   "cell_type": "code",
   "execution_count": 5,
   "metadata": {
    "collapsed": false
   },
   "outputs": [
    {
     "name": "stderr",
     "output_type": "stream",
     "text": [
      "/Users/seth.bunke/anaconda/envs/carnd-term1/lib/python3.5/site-packages/skimage/feature/_hog.py:119: skimage_deprecation: Default value of `block_norm`==`L1` is deprecated and will be changed to `L2-Hys` in v0.15\n",
      "  'be changed to `L2-Hys` in v0.15', skimage_deprecation)\n"
     ]
    }
   ],
   "source": [
    "car_features = extract_features(cars, color_space=color_space,\n",
    "                                spatial_size=spatial_size, hist_bins=hist_bins,\n",
    "                                orient=orient, pix_per_cell=pix_per_cell,\n",
    "                                cell_per_block=cell_per_block,\n",
    "                                hog_channel=hog_channel, spatial_feat=spatial_feat,\n",
    "                                hist_feat=hist_feat, hog_feat=hog_feat)\n",
    "notcar_features = extract_features(notcars, color_space=color_space,\n",
    "                                   spatial_size=spatial_size, hist_bins=hist_bins,\n",
    "                                   orient=orient, pix_per_cell=pix_per_cell,\n",
    "                                   cell_per_block=cell_per_block,\n",
    "                                   hog_channel=hog_channel, spatial_feat=spatial_feat,\n",
    "                                   hist_feat=hist_feat, hog_feat=hog_feat)"
   ]
  },
  {
   "cell_type": "markdown",
   "metadata": {},
   "source": [
    "## Split Data"
   ]
  },
  {
   "cell_type": "code",
   "execution_count": 7,
   "metadata": {
    "collapsed": false
   },
   "outputs": [],
   "source": [
    "car_X_train, car_X_test, car_y_train, car_y_test = \\\n",
    "    train_test_split(np.array(car_features), np.ones(len(car_features)), test_size=0.2)\n",
    "\n",
    "noncar_X_train, noncar_X_test, noncar_y_train, noncar_y_test = \\\n",
    "    train_test_split(np.array(notcar_features), np.zeros(len(notcar_features)), test_size=0.2)\n",
    "\n",
    "X_train = np.vstack((car_X_train, noncar_X_train))\n",
    "y_train = np.hstack((car_y_train, noncar_y_train))\n",
    "X_test = np.vstack((car_X_test, noncar_X_test))\n",
    "y_test = np.hstack((car_y_test, noncar_y_test))"
   ]
  },
  {
   "cell_type": "markdown",
   "metadata": {},
   "source": [
    "## Scaling the Data"
   ]
  },
  {
   "cell_type": "code",
   "execution_count": 8,
   "metadata": {
    "collapsed": true
   },
   "outputs": [],
   "source": [
    "X_scaler = StandardScaler().fit(np.vstack((X_train, X_test)))\n",
    "X_train = X_scaler.transform(X_train)\n",
    "X_test = X_scaler.transform(X_test)"
   ]
  },
  {
   "cell_type": "markdown",
   "metadata": {},
   "source": [
    "## Training the Classifier"
   ]
  },
  {
   "cell_type": "markdown",
   "metadata": {},
   "source": [
    "Through disucssions on the class forum as well as my own testing I selected SVC as the model. The comparison of some models is shown below. The tuning of paramters did not make an appreciable difference in accuracy. Some of that tuning was based on this dicussion: https://stats.stackexchange.com/questions/31066/what-is-the-influence-of-c-in-svms-with-linear-kernel"
   ]
  },
  {
   "cell_type": "code",
   "execution_count": 13,
   "metadata": {
    "collapsed": true
   },
   "outputs": [],
   "source": [
    "def train_model_report_accuracy(model):\n",
    "    global X_train\n",
    "    global y_train\n",
    "    global X_test\n",
    "    global y_test\n",
    "    # Check the training time for the SVC\n",
    "    t = time.time()\n",
    "    model.fit(X_train, y_train)\n",
    "    t2 = time.time()\n",
    "    print(round(t2 - t, 2), 'Seconds to train model...')\n",
    "    t = time.time()\n",
    "    p = model.predict(X_test)\n",
    "    t2 = time.time()\n",
    "    # Check the prediction time\n",
    "    print(round(t2 - t, 4), 'Seconds to predict with model...')\n",
    "    # Check the score of the SVC\n",
    "    print('Test accuracy: {:.4f}'.format(accuracy_score(y_test, p)))\n",
    "    print(\"Test precision: {:.4f}\".format(precision_score(y_test, p)))\n",
    "    print(\"\")\n",
    "    print(classification_report(y_test, p, digits=4))\n",
    "    return model"
   ]
  },
  {
   "cell_type": "code",
   "execution_count": 14,
   "metadata": {
    "collapsed": true
   },
   "outputs": [],
   "source": [
    "model = LinearSVC(dual=True, C=0.01)"
   ]
  },
  {
   "cell_type": "code",
   "execution_count": 15,
   "metadata": {
    "collapsed": false
   },
   "outputs": [
    {
     "name": "stdout",
     "output_type": "stream",
     "text": [
      "3.97 Seconds to train model...\n",
      "0.6391 Seconds to predict with model...\n",
      "Test accuracy: 0.9772\n",
      "Test precision: 0.9635\n",
      "\n",
      "             precision    recall  f1-score   support\n",
      "\n",
      "        0.0     0.9914    0.9632    0.9771      1793\n",
      "        1.0     0.9635    0.9915    0.9773      1758\n",
      "\n",
      "avg / total     0.9776    0.9772    0.9772      3551\n",
      "\n"
     ]
    },
    {
     "data": {
      "text/plain": [
       "LinearSVC(C=0.01, class_weight=None, dual=True, fit_intercept=True,\n",
       "     intercept_scaling=1, loss='squared_hinge', max_iter=1000,\n",
       "     multi_class='ovr', penalty='l2', random_state=None, tol=0.0001,\n",
       "     verbose=0)"
      ]
     },
     "execution_count": 15,
     "metadata": {},
     "output_type": "execute_result"
    }
   ],
   "source": [
    "train_model_report_accuracy(model)"
   ]
  },
  {
   "cell_type": "code",
   "execution_count": 21,
   "metadata": {
    "collapsed": false
   },
   "outputs": [
    {
     "name": "stdout",
     "output_type": "stream",
     "text": [
      "54.37 Seconds to train model...\n",
      "12.6779 Seconds to predict with model...\n",
      "Test accuracy: 0.9904\n",
      "Test precision: 0.9826\n",
      "\n",
      "             precision    recall  f1-score   support\n",
      "\n",
      "        0.0     0.9983    0.9827    0.9904      1793\n",
      "        1.0     0.9826    0.9983    0.9904      1758\n",
      "\n",
      "avg / total     0.9905    0.9904    0.9904      3551\n",
      "\n"
     ]
    },
    {
     "data": {
      "text/plain": [
       "SVC(C=1.0, cache_size=200, class_weight=None, coef0=0.0,\n",
       "  decision_function_shape='ovr', degree=3, gamma='auto', kernel='rbf',\n",
       "  max_iter=-1, probability=False, random_state=None, shrinking=True,\n",
       "  tol=0.001, verbose=False)"
      ]
     },
     "execution_count": 21,
     "metadata": {},
     "output_type": "execute_result"
    }
   ],
   "source": [
    "model_1 = SVC()\n",
    "train_model_report_accuracy(model_1)"
   ]
  },
  {
   "cell_type": "code",
   "execution_count": 22,
   "metadata": {
    "collapsed": false
   },
   "outputs": [
    {
     "name": "stdout",
     "output_type": "stream",
     "text": [
      "76.22 Seconds to train model...\n",
      "0.05 Seconds to predict with model...\n",
      "Test accuracy: 0.9285\n",
      "Test precision: 0.8841\n",
      "\n",
      "             precision    recall  f1-score   support\n",
      "\n",
      "        0.0     0.9831    0.8734    0.9250      1793\n",
      "        1.0     0.8841    0.9846    0.9316      1758\n",
      "\n",
      "avg / total     0.9340    0.9285    0.9283      3551\n",
      "\n"
     ]
    },
    {
     "data": {
      "text/plain": [
       "DecisionTreeClassifier(class_weight=None, criterion='gini', max_depth=None,\n",
       "            max_features=None, max_leaf_nodes=None,\n",
       "            min_impurity_decrease=0.0, min_impurity_split=None,\n",
       "            min_samples_leaf=1, min_samples_split=2,\n",
       "            min_weight_fraction_leaf=0.0, presort=False, random_state=None,\n",
       "            splitter='best')"
      ]
     },
     "execution_count": 22,
     "metadata": {},
     "output_type": "execute_result"
    }
   ],
   "source": [
    "from sklearn import tree\n",
    "model_2 = tree.DecisionTreeClassifier()\n",
    "train_model_report_accuracy(model_2)"
   ]
  },
  {
   "cell_type": "markdown",
   "metadata": {},
   "source": [
    "## Train Using All Data"
   ]
  },
  {
   "cell_type": "code",
   "execution_count": 23,
   "metadata": {
    "collapsed": false
   },
   "outputs": [
    {
     "name": "stdout",
     "output_type": "stream",
     "text": [
      "74.11 Seconds to train final model...\n"
     ]
    }
   ],
   "source": [
    "X = np.vstack((X_train, X_test))\n",
    "y = np.hstack((y_train, y_test))\n",
    "\n",
    "t = time.time()\n",
    "final_model = SVC()\n",
    "final_model.fit(X, y)\n",
    "t2 = time.time()\n",
    "print(round(t2 - t, 2), 'Seconds to train final model...')"
   ]
  },
  {
   "cell_type": "markdown",
   "metadata": {},
   "source": [
    "## Save Model"
   ]
  },
  {
   "cell_type": "code",
   "execution_count": 24,
   "metadata": {
    "collapsed": true
   },
   "outputs": [],
   "source": [
    "with open(\"final_model.p\", \"wb\") as ofile:\n",
    "    pickle.dump([final_model, X_scaler], ofile)"
   ]
  },
  {
   "cell_type": "code",
   "execution_count": null,
   "metadata": {
    "collapsed": true
   },
   "outputs": [],
   "source": []
  }
 ],
 "metadata": {
  "kernelspec": {
   "display_name": "Python [conda env:carnd-term1]",
   "language": "python",
   "name": "conda-env-carnd-term1-py"
  },
  "language_info": {
   "codemirror_mode": {
    "name": "ipython",
    "version": 3
   },
   "file_extension": ".py",
   "mimetype": "text/x-python",
   "name": "python",
   "nbconvert_exporter": "python",
   "pygments_lexer": "ipython3",
   "version": "3.5.2"
  }
 },
 "nbformat": 4,
 "nbformat_minor": 1
}
