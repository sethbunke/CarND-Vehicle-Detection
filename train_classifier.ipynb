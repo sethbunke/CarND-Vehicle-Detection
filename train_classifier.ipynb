{
 "cells": [
  {
   "cell_type": "code",
   "execution_count": 1,
   "metadata": {
    "ExecuteTime": {
     "end_time": "2017-05-29T18:56:12.232404Z",
     "start_time": "2017-05-29T18:56:11.886255Z"
    },
    "collapsed": true
   },
   "outputs": [],
   "source": [
    "from lesson_functions import *\n",
    "import glob\n",
    "from os.path import join\n",
    "from sklearn.metrics import precision_score, classification_report, accuracy_score\n",
    "from sklearn.svm import LinearSVC\n",
    "from sklearn.preprocessing import StandardScaler\n",
    "import time\n",
    "import pickle"
   ]
  },
  {
   "cell_type": "markdown",
   "metadata": {},
   "source": [
    "# Functions"
   ]
  },
  {
   "cell_type": "code",
   "execution_count": 2,
   "metadata": {
    "ExecuteTime": {
     "end_time": "2017-05-29T18:56:12.698108Z",
     "start_time": "2017-05-29T18:56:12.693694Z"
    },
    "collapsed": true
   },
   "outputs": [],
   "source": [
    "def non_shuffling_train_test_split(X, y, test_size=0.2):\n",
    "    i = int((1 - test_size) * X.shape[0]) + 1\n",
    "    X_train, X_test = np.split(X, [i])\n",
    "    y_train, y_test = np.split(y, [i])\n",
    "    return X_train, X_test, y_train, y_test"
   ]
  },
  {
   "cell_type": "markdown",
   "metadata": {},
   "source": [
    "# Setup"
   ]
  },
  {
   "cell_type": "markdown",
   "metadata": {},
   "source": [
    "## Parameters"
   ]
  },
  {
   "cell_type": "code",
   "execution_count": 3,
   "metadata": {
    "ExecuteTime": {
     "end_time": "2017-05-29T18:56:14.063919Z",
     "start_time": "2017-05-29T18:56:14.061509Z"
    },
    "collapsed": true
   },
   "outputs": [],
   "source": [
    "data_dir = \"./images/\""
   ]
  },
  {
   "cell_type": "code",
   "execution_count": 4,
   "metadata": {
    "ExecuteTime": {
     "end_time": "2017-05-29T18:56:14.367839Z",
     "start_time": "2017-05-29T18:56:14.359921Z"
    },
    "collapsed": true
   },
   "outputs": [],
   "source": [
    "color_space = 'HLS'  # Can be RGB, HSV, LUV, HLS, YUV, YCrCb\n",
    "orient = 9  # HOG orientations\n",
    "pix_per_cell = 16  # HOG pixels per cell\n",
    "cell_per_block = 2  # HOG cells per block\n",
    "hog_channel = \"ALL\"  # Can be 0, 1, 2, or \"ALL\"\n",
    "spatial_size = (16, 16)  # Spatial binning dimensions\n",
    "hist_bins = 16  # Number of histogram bins\n",
    "spatial_feat = True  # Spatial features on or off\n",
    "hist_feat = True  # Histogram features on or off\n",
    "hog_feat = True  # HOG features on or off"
   ]
  },
  {
   "cell_type": "markdown",
   "metadata": {},
   "source": [
    "# Create feature vectors"
   ]
  },
  {
   "cell_type": "markdown",
   "metadata": {},
   "source": [
    "## Get the paths of the training images"
   ]
  },
  {
   "cell_type": "code",
   "execution_count": 5,
   "metadata": {
    "ExecuteTime": {
     "end_time": "2017-05-29T18:56:15.650973Z",
     "start_time": "2017-05-29T18:56:15.584690Z"
    },
    "collapsed": true
   },
   "outputs": [],
   "source": [
    "cars = glob.glob(join(data_dir, \"vehicles/*/*.png\"))\n",
    "notcars = glob.glob(join(data_dir, \"non-vehicles/*/*.png\"))"
   ]
  },
  {
   "cell_type": "markdown",
   "metadata": {},
   "source": [
    "## Create feature vectors"
   ]
  },
  {
   "cell_type": "code",
   "execution_count": 6,
   "metadata": {
    "ExecuteTime": {
     "end_time": "2017-05-29T18:56:57.413529Z",
     "start_time": "2017-05-29T18:56:16.571352Z"
    },
    "collapsed": false
   },
   "outputs": [
    {
     "name": "stderr",
     "output_type": "stream",
     "text": [
      "/Users/seth.bunke/anaconda/envs/carnd-term1/lib/python3.5/site-packages/skimage/feature/_hog.py:119: skimage_deprecation: Default value of `block_norm`==`L1` is deprecated and will be changed to `L2-Hys` in v0.15\n",
      "  'be changed to `L2-Hys` in v0.15', skimage_deprecation)\n"
     ]
    }
   ],
   "source": [
    "car_features = extract_features(cars, color_space=color_space,\n",
    "                                spatial_size=spatial_size, hist_bins=hist_bins,\n",
    "                                orient=orient, pix_per_cell=pix_per_cell,\n",
    "                                cell_per_block=cell_per_block,\n",
    "                                hog_channel=hog_channel, spatial_feat=spatial_feat,\n",
    "                                hist_feat=hist_feat, hog_feat=hog_feat)\n",
    "notcar_features = extract_features(notcars, color_space=color_space,\n",
    "                                   spatial_size=spatial_size, hist_bins=hist_bins,\n",
    "                                   orient=orient, pix_per_cell=pix_per_cell,\n",
    "                                   cell_per_block=cell_per_block,\n",
    "                                   hog_channel=hog_channel, spatial_feat=spatial_feat,\n",
    "                                   hist_feat=hist_feat, hog_feat=hog_feat)"
   ]
  },
  {
   "cell_type": "markdown",
   "metadata": {},
   "source": [
    "## Split and scale feature vector"
   ]
  },
  {
   "cell_type": "code",
   "execution_count": 7,
   "metadata": {
    "ExecuteTime": {
     "end_time": "2017-05-29T18:56:58.010208Z",
     "start_time": "2017-05-29T18:56:57.414633Z"
    },
    "collapsed": true
   },
   "outputs": [],
   "source": [
    "car_X_train, car_X_test, car_y_train, car_y_test = \\\n",
    "    non_shuffling_train_test_split(np.array(car_features), np.ones(len(car_features)), test_size=0.2)\n",
    "\n",
    "noncar_X_train, noncar_X_test, noncar_y_train, noncar_y_test = \\\n",
    "    non_shuffling_train_test_split(np.array(notcar_features), np.zeros(len(notcar_features)), test_size=0.2)\n",
    "\n",
    "X_train = np.vstack((car_X_train, noncar_X_train))\n",
    "y_train = np.hstack((car_y_train, noncar_y_train))\n",
    "X_test = np.vstack((car_X_test, noncar_X_test))\n",
    "y_test = np.hstack((car_y_test, noncar_y_test))\n",
    "\n",
    "X_scaler = StandardScaler().fit(np.vstack((X_train, X_test)))\n",
    "X_train = X_scaler.transform(X_train)\n",
    "X_test = X_scaler.transform(X_test)"
   ]
  },
  {
   "cell_type": "markdown",
   "metadata": {},
   "source": [
    "# Run fitting"
   ]
  },
  {
   "cell_type": "markdown",
   "metadata": {},
   "source": [
    "## Testing"
   ]
  },
  {
   "cell_type": "code",
   "execution_count": 8,
   "metadata": {
    "ExecuteTime": {
     "end_time": "2017-05-29T18:57:01.584431Z",
     "start_time": "2017-05-29T18:56:58.011744Z"
    },
    "collapsed": false
   },
   "outputs": [
    {
     "name": "stdout",
     "output_type": "stream",
     "text": [
      "Using: 9 orientations 16 pixels per cell and 2 cells per block\n",
      "Feature vector length: 1788\n",
      "3.29 Seconds to train SVC...\n",
      "0.0203 Seconds to predict with SVC...\n",
      "Test accuracy: 0.9772\n",
      "Test precision: 0.9635\n",
      "\n",
      "             precision    recall  f1-score   support\n",
      "\n",
      "        0.0     0.9914    0.9632    0.9771      1793\n",
      "        1.0     0.9635    0.9915    0.9773      1758\n",
      "\n",
      "avg / total     0.9776    0.9772    0.9772      3551\n",
      "\n"
     ]
    }
   ],
   "source": [
    "print('Using:', orient, 'orientations', pix_per_cell,\n",
    "      'pixels per cell and', cell_per_block, 'cells per block')\n",
    "print('Feature vector length:', len(X_train[0]))\n",
    "# Use a linear SVC\n",
    "svc = LinearSVC(dual=True, C=0.01)\n",
    "# Check the training time for the SVC\n",
    "t = time.time()\n",
    "svc.fit(X_train, y_train)\n",
    "t2 = time.time()\n",
    "print(round(t2 - t, 2), 'Seconds to train SVC...')\n",
    "t = time.time()\n",
    "p = svc.predict(X_test)\n",
    "t2 = time.time()\n",
    "# Check the prediction time\n",
    "print(round(t2 - t, 4), 'Seconds to predict with SVC...')\n",
    "# Check the score of the SVC\n",
    "print('Test accuracy: {:.4f}'.format(accuracy_score(y_test, p)))\n",
    "print(\"Test precision: {:.4f}\".format(precision_score(y_test, p)))\n",
    "print(\"\")\n",
    "print(classification_report(y_test, p, digits=4))"
   ]
  },
  {
   "cell_type": "markdown",
   "metadata": {},
   "source": [
    "## Train final classifier with all data"
   ]
  },
  {
   "cell_type": "code",
   "execution_count": 9,
   "metadata": {
    "ExecuteTime": {
     "end_time": "2017-05-29T18:57:06.514412Z",
     "start_time": "2017-05-29T18:57:01.585698Z"
    },
    "collapsed": false
   },
   "outputs": [
    {
     "name": "stdout",
     "output_type": "stream",
     "text": [
      "4.7 Seconds to train final SVC...\n"
     ]
    }
   ],
   "source": [
    "X = np.vstack((X_train, X_test))\n",
    "y = np.hstack((y_train, y_test))\n",
    "\n",
    "t = time.time()\n",
    "svc.fit(X, y)\n",
    "t2 = time.time()\n",
    "print(round(t2 - t, 2), 'Seconds to train final SVC...')"
   ]
  },
  {
   "cell_type": "markdown",
   "metadata": {},
   "source": [
    "## Pickle the classifier and scaler"
   ]
  },
  {
   "cell_type": "code",
   "execution_count": 10,
   "metadata": {
    "ExecuteTime": {
     "end_time": "2017-05-29T18:57:43.469535Z",
     "start_time": "2017-05-29T18:57:43.465705Z"
    },
    "collapsed": true
   },
   "outputs": [],
   "source": [
    "with open(\"svc.p\", \"wb\") as ofile:\n",
    "    pickle.dump([svc, X_scaler], ofile)"
   ]
  },
  {
   "cell_type": "code",
   "execution_count": null,
   "metadata": {
    "collapsed": true
   },
   "outputs": [],
   "source": []
  }
 ],
 "metadata": {
  "kernelspec": {
   "display_name": "Python [conda env:carnd-term1]",
   "language": "python",
   "name": "conda-env-carnd-term1-py"
  },
  "language_info": {
   "codemirror_mode": {
    "name": "ipython",
    "version": 3
   },
   "file_extension": ".py",
   "mimetype": "text/x-python",
   "name": "python",
   "nbconvert_exporter": "python",
   "pygments_lexer": "ipython3",
   "version": "3.5.2"
  },
  "toc": {
   "nav_menu": {
    "height": "225px",
    "width": "252px"
   },
   "navigate_menu": true,
   "number_sections": true,
   "sideBar": true,
   "threshold": 4,
   "toc_cell": false,
   "toc_section_display": "block",
   "toc_window_display": false
  }
 },
 "nbformat": 4,
 "nbformat_minor": 2
}
